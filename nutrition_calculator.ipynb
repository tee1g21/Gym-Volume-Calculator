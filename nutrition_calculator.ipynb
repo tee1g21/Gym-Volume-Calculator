{
 "cells": [
  {
   "cell_type": "markdown",
   "id": "f3d65969",
   "metadata": {},
   "source": [
    "# Import CoFID Dataset"
   ]
  },
  {
   "cell_type": "code",
   "execution_count": 8,
   "id": "16845ea8",
   "metadata": {},
   "outputs": [
    {
     "name": "stdout",
     "output_type": "stream",
     "text": [
      "Index(['food', 'Water (g)', 'Protein (g)', 'Fat (g)', 'Carbohydrate (g)',\n",
      "       'Energy (kcal)', 'Starch (g)', 'Sugars (g)', 'Fibre (g)', 'Sodium (mg)',\n",
      "       'Potassium (mg)', 'Calcium (mg)', 'Magnesium (mg)', 'Phosphorus (mg)',\n",
      "       'Iron (mg)', 'Copper (mg)', 'Zinc (mg)', 'Chloride (mg)',\n",
      "       'Manganese (mg)', 'Selenium (µg)', 'Iodine (µg)'],\n",
      "      dtype='object')\n"
     ]
    }
   ],
   "source": [
    "import pandas as pd\n",
    "\n",
    "# import CoFID dataset\n",
    "\n",
    "cofid_path = 'data/CoFID_Dataset_2021.xlsx'\n",
    "\n",
    "# proximates sheet (traditional food composition data)\n",
    "df_proximates = pd.read_excel(cofid_path, sheet_name='1.3 Proximates', usecols='B, H:AU')\n",
    "use_cols_prox = ['Food Name', 'Water (g)', 'Protein (g)', 'Fat (g)', 'Carbohydrate (g)', \n",
    "            'Energy (kcal) (kcal)', 'Starch (g)', 'Total sugars (g)', 'AOAC fibre (g)']\n",
    "df_proximates = df_proximates[use_cols_prox]\n",
    "df_proximates = df_proximates.rename(columns={'Energy (kcal) (kcal)': 'Energy (kcal)', \n",
    "                                             'AOAC fibre (g)': 'Fibre (g)',\n",
    "                                             'Total sugars (g)': 'Sugars (g)', \n",
    "                                             'Food Name': 'food'})\n",
    "\n",
    "# inorganics sheet (metals and minerals like potassium, calcium, etc.)\n",
    "df_inorganics = pd.read_excel(cofid_path, sheet_name='1.4 Inorganics', usecols='B, H:S')\n",
    "df_inorganics = df_inorganics.rename(columns={'Food Name': 'food'})\n",
    "\n",
    "# Merge tables\n",
    "df_cofid = pd.merge(df_proximates, df_inorganics, on=\"food\", how=\"outer\").fillna(0)\n",
    "\n",
    "print(df_cofid.columns)\n",
    "\n",
    "#display(df_proximates.head())\n",
    "#display(df_inorganics.head())\n"
   ]
  },
  {
   "cell_type": "code",
   "execution_count": 9,
   "id": "4389ade2",
   "metadata": {},
   "outputs": [],
   "source": [
    "# search cofid dataset through this link \n",
    "#https://quadram.ac.uk/UKfoodcomposition/?s=Chopped+tomatoes&submit=Search\n",
    "\n",
    "food_grams = {\n",
    "    'Bananas, flesh only' : 114, \n",
    "    'Raspberries, raw' : 100, \n",
    "    'Passion fruit, flesh and pips' : 22, \n",
    "    'Pumpkin seeds' : 10,\n",
    "    'Yogurt, low fat, plain' : 70,\n",
    "    'Chicken, breast, grilled without skin, meat only' : 360, \n",
    "    'Ham, gammon joint, boiled' : 57, \n",
    "    'Tomatoes, canned, whole contents' : 400, \n",
    "    'Baked beans, canned in tomato sauce, reduced sugar, reduced salt' : 400, \n",
    "    'Avocado, Hass, flesh only' : 45, \n",
    "    'Almonds, whole kernels' : 12, \n",
    "    'Tuna, canned in brine, drained' : 50, \n",
    "    'Chocolate, plain' : 40\n",
    "}"
   ]
  },
  {
   "cell_type": "code",
   "execution_count": 14,
   "id": "c99557a1",
   "metadata": {},
   "outputs": [
    {
     "name": "stdout",
     "output_type": "stream",
     "text": [
      "Daily totals:\n",
      "grams               1680.0\n",
      "Water (g)           1258.9\n",
      "Protein (g)          179.2\n",
      "Fat (g)               48.6\n",
      "Carbohydrate (g)     132.5\n",
      "Energy (kcal)       1648.7\n",
      "Starch (g)            45.4\n",
      "Sugars (g)            86.4\n",
      "Fibre (g)             31.0\n",
      "Sodium (mg)         1852.9\n",
      "Potassium (mg)      5145.7\n",
      "Calcium (mg)         440.3\n",
      "Magnesium (mg)       485.0\n",
      "Phosphorus (mg)     2111.1\n",
      "Iron (mg)             14.3\n",
      "Copper (mg)            2.3\n",
      "Zinc (mg)             10.2\n",
      "Chloride (mg)       3960.2\n",
      "Manganese (mg)         3.2\n",
      "Selenium (µg)        115.0\n",
      "Iodine (µg)           81.3\n",
      "dtype: float64\n"
     ]
    }
   ],
   "source": [
    "num_cols = df_cofid.columns.drop('food')\n",
    "df_cofid[num_cols] = df_cofid[num_cols]\\\n",
    "    .apply(pd.to_numeric, errors='coerce')\n",
    "\n",
    "# 2️⃣ Then your loop will work without TypeErrors:\n",
    "records = []\n",
    "for food, grams in food_grams.items():\n",
    "    match = df_cofid[df_cofid['food'].str.contains(food, na=False)]\n",
    "    if match.empty:\n",
    "        rec = {'food': food, 'grams': grams}\n",
    "        for col in num_cols:\n",
    "            rec[col] = None\n",
    "    else:\n",
    "        row = match.iloc[0]\n",
    "        rec = {'food': food, 'grams': grams}\n",
    "        for col in num_cols:\n",
    "            # row[col] is now a float or NaN, so this math works\n",
    "            rec[col] = row[col] * grams / 100\n",
    "    records.append(rec)\n",
    "\n",
    "df_items = pd.DataFrame(records).set_index('food').round(1)\n",
    "totals   = df_items.sum(numeric_only=True).round(1)\n",
    "\n",
    "#print(\"Per-item breakdown:\")\n",
    "#print(df_items, \"\\n\")\n",
    "print(\"Daily totals:\")\n",
    "print(totals)"
   ]
  },
  {
   "cell_type": "code",
   "execution_count": 15,
   "id": "bb7a22d1",
   "metadata": {},
   "outputs": [
    {
     "name": "stdout",
     "output_type": "stream",
     "text": [
      "Comparison of Daily Intake to Recommendations:\n",
      "                  Intake     RDA  % of RDA\n",
      "Calcium (mg)       440.3  1000.0      44.0\n",
      "Carbohydrate (g)   132.5   130.0     101.9\n",
      "Copper (mg)          2.3     0.9     255.6\n",
      "Energy (kcal)     1648.7  2500.0      65.9\n",
      "Fibre (g)           31.0    38.0      81.6\n",
      "Iron (mg)           14.3     8.0     178.8\n",
      "Magnesium (mg)     485.0   420.0     115.5\n",
      "Phosphorus (mg)   2111.1   700.0     301.6\n",
      "Potassium (mg)    5145.7  3400.0     151.3\n",
      "Protein (g)        179.2    56.0     320.0\n",
      "Sodium (mg)       1852.9  2300.0      80.6\n",
      "Zinc (mg)           10.2    11.0      92.7\n"
     ]
    }
   ],
   "source": [
    "rda = {\n",
    "    \"Energy (kcal)\":      2500,   # average adult male energy needs\n",
    "    \"Protein (g)\":        56,     # 0.8 g/kg for ~70 kg male\n",
    "    \"Carbohydrate (g)\":   130,    # minimum carbohydrate RDA\n",
    "    \"Fibre (g)\":          38,     # Adequate Intake for men 19-50 y\n",
    "    \"Sodium (mg)\":        2300,   # Tolerable Upper Intake Level\n",
    "    \"Potassium (mg)\":     3400,   # Adequate Intake for men\n",
    "    \"Calcium (mg)\":       1000,   # RDA for adults 19-50 y\n",
    "    \"Magnesium (mg)\":     420,    # DV for adults\n",
    "    \"Phosphorus (mg)\":    700,    # RDA for adults 19+ y\n",
    "    \"Iron (mg)\":          8,      # RDA for men\n",
    "    \"Copper (mg)\":        0.9,    # RDA for adults\n",
    "    \"Zinc (mg)\":          11      # RDA for adult males\n",
    "}\n",
    "\n",
    "# 2️⃣ Build DataFrame for comparison\n",
    "# Ensure 'totals' contains the same indices as rda keys\n",
    "df_compare = pd.DataFrame({\n",
    "    \"Intake\": totals,\n",
    "    \"RDA\": pd.Series(rda)\n",
    "}).dropna()\n",
    "\n",
    "df_compare[\"% of RDA\"] = (df_compare[\"Intake\"] / df_compare[\"RDA\"] * 100).round(1)\n",
    "\n",
    "# 3️⃣ Print comparison\n",
    "print(\"Comparison of Daily Intake to Recommendations:\")\n",
    "print(df_compare)"
   ]
  }
 ],
 "metadata": {
  "kernelspec": {
   "display_name": "base",
   "language": "python",
   "name": "python3"
  },
  "language_info": {
   "codemirror_mode": {
    "name": "ipython",
    "version": 3
   },
   "file_extension": ".py",
   "mimetype": "text/x-python",
   "name": "python",
   "nbconvert_exporter": "python",
   "pygments_lexer": "ipython3",
   "version": "3.11.5"
  }
 },
 "nbformat": 4,
 "nbformat_minor": 5
}
